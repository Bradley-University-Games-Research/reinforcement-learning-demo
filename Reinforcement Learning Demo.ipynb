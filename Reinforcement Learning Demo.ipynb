{
 "cells": [
  {
   "cell_type": "markdown",
   "id": "22e76b8d",
   "metadata": {},
   "source": [
    "# Reinforcement Learning with OpenAI Gym"
   ]
  },
  {
   "cell_type": "markdown",
   "id": "07bf6c92",
   "metadata": {},
   "source": [
    "## General Information\n",
    "\n",
    "- __Machine Learning__: applications that learn from data and improve their accuracy over time without being programmed to do so.\n",
    "\n",
    "\n",
    "- __Supervised Learning__: Machine is feeded dataset with output labels\n",
    "- __Unsupervised Learning__: Machine is feeded dataset without output labels\n",
    "- __Reinforcement Learning__: Agent interacts with environment and takes actions while learning through the use of a reward system."
   ]
  },
  {
   "cell_type": "markdown",
   "id": "09bc8572",
   "metadata": {},
   "source": [
    "## Key Ideas\n",
    "- __Reward system__: No supervisor (data) to know if prediction was right, instead use a reward system.\n",
    "- __Delayed feedback__: Feedback is delayed until next state (don't know if moving right will make you lose game).\n",
    "- __Agent taking actions__: The actions the agent takes have a drastic effect on the following data it receives"
   ]
  },
  {
   "cell_type": "markdown",
   "id": "9adc9297",
   "metadata": {},
   "source": [
    "Reinforcement Learning AI makes a discovery: https://www.youtube.com/watch?v=meE5aaRJ0Zs&ab_channel=PatrykChrab%C4%85szcz\n",
    "\n",
    "A heads up that some python versions may not work. I found Python version 3.8 to work fine.\n",
    "\n",
    "OpenAI Gym: https://gym.openai.com/\n",
    "\n",
    "CartPole-v0: https://gym.openai.com/envs/CartPole-v0/\n",
    "\n",
    "MsPacman-ram-v0: https://gym.openai.com/envs/MsPacman-ram-v0/"
   ]
  },
  {
   "cell_type": "markdown",
   "id": "e7ff7a38",
   "metadata": {},
   "source": [
    "## How does Reinforcement Learning work?\n",
    "![Reinforcement Learning Diagram](https://www.kdnuggets.com/images/reinforcement-learning-fig1-700.jpg)"
   ]
  },
  {
   "cell_type": "markdown",
   "id": "5b739dbf",
   "metadata": {},
   "source": [
    "### Key Terms\n",
    "__Agent__: The system that interacts and acts on the environment (like a robot, or like you \"reading the pixels\" on the screen of a game and taking an action).\n",
    "\n",
    "__Environment__: The entity that the agent utilizes to take actions to maximize the reward (ex: the screen of a game)\n",
    "\n",
    "__State__: The state of the environment (ex: the pixel data on that timestep)\n",
    "\n",
    "__Reward__: Defines the reward collected by taking the action a at state s. The objective in reinforcement learning is to maximize the total rewards of a policy. A reward can be the added score in a game, successfully turning a doorknob or winning a game.\n",
    "\n",
    "__Action__: The action taken by the agent based off of factors such as the state and the reward gained from the previous action.\n",
    "\n",
    "__Policy__: Defines how an agent acts from a specific state (think of it as a guide when your playing the game). A function that maps a given state to probabilities to selecting each possible action from the given state.\n",
    "\n",
    "__Episode__: Playing out the whole sequence of state and action until reaching the terminate state or reaching a predefined length of actions (In the case of Pacman, playing until the agent runs out of lives)."
   ]
  },
  {
   "cell_type": "markdown",
   "id": "c21722b4",
   "metadata": {},
   "source": [
    "## Required Python libraries"
   ]
  },
  {
   "cell_type": "markdown",
   "id": "b786c5f8",
   "metadata": {},
   "source": [
    "The below libraries are necessary in order for the code that follows to function correctly.\n",
    "\n",
    "__Tensorflow__: free and open-source software library for machine learning\n",
    "\n",
    "__Gym__: toolkit for developing and comparing reinforcement learning algorithms\n",
    "\n",
    "__Keras__: open-source software library that provides a Python interface for artificial neural networks\n",
    "\n",
    "__Keras-rl2__: implements some state-of-the art deep reinforcement learning algorithms in Python and seamlessly integrates with the deep learning library Keras."
   ]
  },
  {
   "cell_type": "code",
   "execution_count": 1,
   "id": "5dd1b750",
   "metadata": {},
   "outputs": [
    {
     "name": "stdout",
     "output_type": "stream",
     "text": [
      "Requirement already satisfied: tensorflow==2.3.0 in c:\\users\\benja\\appdata\\local\\programs\\python\\python38\\lib\\site-packages (2.3.0)\n",
      "Requirement already satisfied: protobuf>=3.9.2 in c:\\users\\benja\\appdata\\local\\programs\\python\\python38\\lib\\site-packages (from tensorflow==2.3.0) (3.15.8)\n",
      "Requirement already satisfied: tensorboard<3,>=2.3.0 in c:\\users\\benja\\appdata\\local\\programs\\python\\python38\\lib\\site-packages (from tensorflow==2.3.0) (2.5.0)\n",
      "Requirement already satisfied: google-pasta>=0.1.8 in c:\\users\\benja\\appdata\\local\\programs\\python\\python38\\lib\\site-packages (from tensorflow==2.3.0) (0.2.0)\n",
      "Requirement already satisfied: grpcio>=1.8.6 in c:\\users\\benja\\appdata\\local\\programs\\python\\python38\\lib\\site-packages (from tensorflow==2.3.0) (1.37.1)\n"
     ]
    },
    {
     "name": "stderr",
     "output_type": "stream",
     "text": [
      "WARNING: You are using pip version 20.2.3; however, version 21.1 is available.\n",
      "You should consider upgrading via the 'c:\\users\\benja\\appdata\\local\\programs\\python\\python38\\python.exe -m pip install --upgrade pip' command.\n"
     ]
    },
    {
     "name": "stdout",
     "output_type": "stream",
     "text": [
      "Requirement already satisfied: tensorflow-estimator<2.4.0,>=2.3.0 in c:\\users\\benja\\appdata\\local\\programs\\python\\python38\\lib\\site-packages (from tensorflow==2.3.0) (2.3.0)\n",
      "Requirement already satisfied: six>=1.12.0 in c:\\users\\benja\\appdata\\local\\programs\\python\\python38\\lib\\site-packages (from tensorflow==2.3.0) (1.15.0)\n",
      "Requirement already satisfied: termcolor>=1.1.0 in c:\\users\\benja\\appdata\\local\\programs\\python\\python38\\lib\\site-packages (from tensorflow==2.3.0) (1.1.0)\n",
      "Requirement already satisfied: scipy==1.4.1 in c:\\users\\benja\\appdata\\local\\programs\\python\\python38\\lib\\site-packages (from tensorflow==2.3.0) (1.4.1)\n",
      "Requirement already satisfied: wheel>=0.26 in c:\\users\\benja\\appdata\\local\\programs\\python\\python38\\lib\\site-packages (from tensorflow==2.3.0) (0.36.2)\n",
      "Requirement already satisfied: keras-preprocessing<1.2,>=1.1.1 in c:\\users\\benja\\appdata\\local\\programs\\python\\python38\\lib\\site-packages (from tensorflow==2.3.0) (1.1.2)\n",
      "Requirement already satisfied: numpy<1.19.0,>=1.16.0 in c:\\users\\benja\\appdata\\local\\programs\\python\\python38\\lib\\site-packages (from tensorflow==2.3.0) (1.18.5)\n",
      "Requirement already satisfied: wrapt>=1.11.1 in c:\\users\\benja\\appdata\\local\\programs\\python\\python38\\lib\\site-packages (from tensorflow==2.3.0) (1.12.1)\n",
      "Requirement already satisfied: gast==0.3.3 in c:\\users\\benja\\appdata\\local\\programs\\python\\python38\\lib\\site-packages (from tensorflow==2.3.0) (0.3.3)\n",
      "Requirement already satisfied: h5py<2.11.0,>=2.10.0 in c:\\users\\benja\\appdata\\local\\programs\\python\\python38\\lib\\site-packages (from tensorflow==2.3.0) (2.10.0)\n",
      "Requirement already satisfied: absl-py>=0.7.0 in c:\\users\\benja\\appdata\\local\\programs\\python\\python38\\lib\\site-packages (from tensorflow==2.3.0) (0.12.0)\n",
      "Requirement already satisfied: opt-einsum>=2.3.2 in c:\\users\\benja\\appdata\\local\\programs\\python\\python38\\lib\\site-packages (from tensorflow==2.3.0) (3.3.0)\n",
      "Requirement already satisfied: astunparse==1.6.3 in c:\\users\\benja\\appdata\\local\\programs\\python\\python38\\lib\\site-packages (from tensorflow==2.3.0) (1.6.3)\n",
      "Requirement already satisfied: setuptools>=41.0.0 in c:\\users\\benja\\appdata\\local\\programs\\python\\python38\\lib\\site-packages (from tensorboard<3,>=2.3.0->tensorflow==2.3.0) (49.2.1)\n",
      "Requirement already satisfied: requests<3,>=2.21.0 in c:\\users\\benja\\appdata\\local\\programs\\python\\python38\\lib\\site-packages (from tensorboard<3,>=2.3.0->tensorflow==2.3.0) (2.25.1)\n",
      "Requirement already satisfied: tensorboard-plugin-wit>=1.6.0 in c:\\users\\benja\\appdata\\local\\programs\\python\\python38\\lib\\site-packages (from tensorboard<3,>=2.3.0->tensorflow==2.3.0) (1.8.0)\n",
      "Requirement already satisfied: markdown>=2.6.8 in c:\\users\\benja\\appdata\\local\\programs\\python\\python38\\lib\\site-packages (from tensorboard<3,>=2.3.0->tensorflow==2.3.0) (3.3.4)\n",
      "Requirement already satisfied: tensorboard-data-server<0.7.0,>=0.6.0 in c:\\users\\benja\\appdata\\local\\programs\\python\\python38\\lib\\site-packages (from tensorboard<3,>=2.3.0->tensorflow==2.3.0) (0.6.0)\n",
      "Requirement already satisfied: werkzeug>=0.11.15 in c:\\users\\benja\\appdata\\local\\programs\\python\\python38\\lib\\site-packages (from tensorboard<3,>=2.3.0->tensorflow==2.3.0) (1.0.1)\n",
      "Requirement already satisfied: google-auth-oauthlib<0.5,>=0.4.1 in c:\\users\\benja\\appdata\\local\\programs\\python\\python38\\lib\\site-packages (from tensorboard<3,>=2.3.0->tensorflow==2.3.0) (0.4.4)\n",
      "Requirement already satisfied: google-auth<2,>=1.6.3 in c:\\users\\benja\\appdata\\local\\programs\\python\\python38\\lib\\site-packages (from tensorboard<3,>=2.3.0->tensorflow==2.3.0) (1.30.0)\n",
      "Requirement already satisfied: chardet<5,>=3.0.2 in c:\\users\\benja\\appdata\\local\\programs\\python\\python38\\lib\\site-packages (from requests<3,>=2.21.0->tensorboard<3,>=2.3.0->tensorflow==2.3.0) (4.0.0)\n",
      "Requirement already satisfied: certifi>=2017.4.17 in c:\\users\\benja\\appdata\\local\\programs\\python\\python38\\lib\\site-packages (from requests<3,>=2.21.0->tensorboard<3,>=2.3.0->tensorflow==2.3.0) (2020.12.5)\n",
      "Requirement already satisfied: urllib3<1.27,>=1.21.1 in c:\\users\\benja\\appdata\\local\\programs\\python\\python38\\lib\\site-packages (from requests<3,>=2.21.0->tensorboard<3,>=2.3.0->tensorflow==2.3.0) (1.26.4)\n",
      "Requirement already satisfied: idna<3,>=2.5 in c:\\users\\benja\\appdata\\local\\programs\\python\\python38\\lib\\site-packages (from requests<3,>=2.21.0->tensorboard<3,>=2.3.0->tensorflow==2.3.0) (2.10)\n",
      "Requirement already satisfied: requests-oauthlib>=0.7.0 in c:\\users\\benja\\appdata\\local\\programs\\python\\python38\\lib\\site-packages (from google-auth-oauthlib<0.5,>=0.4.1->tensorboard<3,>=2.3.0->tensorflow==2.3.0) (1.3.0)\n",
      "Requirement already satisfied: rsa<5,>=3.1.4; python_version >= \"3.6\" in c:\\users\\benja\\appdata\\local\\programs\\python\\python38\\lib\\site-packages (from google-auth<2,>=1.6.3->tensorboard<3,>=2.3.0->tensorflow==2.3.0) (4.7.2)\n",
      "Requirement already satisfied: pyasn1-modules>=0.2.1 in c:\\users\\benja\\appdata\\local\\programs\\python\\python38\\lib\\site-packages (from google-auth<2,>=1.6.3->tensorboard<3,>=2.3.0->tensorflow==2.3.0) (0.2.8)\n",
      "Requirement already satisfied: cachetools<5.0,>=2.0.0 in c:\\users\\benja\\appdata\\local\\programs\\python\\python38\\lib\\site-packages (from google-auth<2,>=1.6.3->tensorboard<3,>=2.3.0->tensorflow==2.3.0) (4.2.2)\n",
      "Requirement already satisfied: oauthlib>=3.0.0 in c:\\users\\benja\\appdata\\local\\programs\\python\\python38\\lib\\site-packages (from requests-oauthlib>=0.7.0->google-auth-oauthlib<0.5,>=0.4.1->tensorboard<3,>=2.3.0->tensorflow==2.3.0) (3.1.0)\n",
      "Requirement already satisfied: pyasn1>=0.1.3 in c:\\users\\benja\\appdata\\local\\programs\\python\\python38\\lib\\site-packages (from rsa<5,>=3.1.4; python_version >= \"3.6\"->google-auth<2,>=1.6.3->tensorboard<3,>=2.3.0->tensorflow==2.3.0) (0.4.8)\n",
      "Requirement already satisfied: gym in c:\\users\\benja\\appdata\\local\\programs\\python\\python38\\lib\\site-packages (0.18.0)\n",
      "Requirement already satisfied: scipy in c:\\users\\benja\\appdata\\local\\programs\\python\\python38\\lib\\site-packages (from gym) (1.4.1)\n",
      "Requirement already satisfied: numpy>=1.10.4 in c:\\users\\benja\\appdata\\local\\programs\\python\\python38\\lib\\site-packages (from gym) (1.18.5)\n",
      "Requirement already satisfied: pyglet<=1.5.0,>=1.4.0 in c:\\users\\benja\\appdata\\local\\programs\\python\\python38\\lib\\site-packages (from gym) (1.5.0)\n",
      "Requirement already satisfied: Pillow<=7.2.0 in c:\\users\\benja\\appdata\\local\\programs\\python\\python38\\lib\\site-packages (from gym) (7.2.0)\n",
      "Requirement already satisfied: cloudpickle<1.7.0,>=1.2.0 in c:\\users\\benja\\appdata\\local\\programs\\python\\python38\\lib\\site-packages (from gym) (1.6.0)\n",
      "Requirement already satisfied: future in c:\\users\\benja\\appdata\\local\\programs\\python\\python38\\lib\\site-packages (from pyglet<=1.5.0,>=1.4.0->gym) (0.18.2)\n"
     ]
    },
    {
     "name": "stderr",
     "output_type": "stream",
     "text": [
      "WARNING: You are using pip version 20.2.3; however, version 21.1 is available.\n",
      "You should consider upgrading via the 'c:\\users\\benja\\appdata\\local\\programs\\python\\python38\\python.exe -m pip install --upgrade pip' command.\n"
     ]
    },
    {
     "name": "stdout",
     "output_type": "stream",
     "text": [
      "Requirement already satisfied: keras in c:\\users\\benja\\appdata\\local\\programs\\python\\python38\\lib\\site-packages (2.4.3)\n",
      "Requirement already satisfied: h5py in c:\\users\\benja\\appdata\\local\\programs\\python\\python38\\lib\\site-packages (from keras) (2.10.0)\n",
      "Requirement already satisfied: pyyaml in c:\\users\\benja\\appdata\\local\\programs\\python\\python38\\lib\\site-packages (from keras) (5.4.1)\n",
      "Requirement already satisfied: numpy>=1.9.1 in c:\\users\\benja\\appdata\\local\\programs\\python\\python38\\lib\\site-packages (from keras) (1.18.5)\n",
      "Requirement already satisfied: scipy>=0.14 in c:\\users\\benja\\appdata\\local\\programs\\python\\python38\\lib\\site-packages (from keras) (1.4.1)\n",
      "Requirement already satisfied: six in c:\\users\\benja\\appdata\\local\\programs\\python\\python38\\lib\\site-packages (from h5py->keras) (1.15.0)\n"
     ]
    },
    {
     "name": "stderr",
     "output_type": "stream",
     "text": [
      "WARNING: You are using pip version 20.2.3; however, version 21.1 is available.\n",
      "You should consider upgrading via the 'c:\\users\\benja\\appdata\\local\\programs\\python\\python38\\python.exe -m pip install --upgrade pip' command.\n"
     ]
    },
    {
     "name": "stdout",
     "output_type": "stream",
     "text": [
      "Requirement already satisfied: keras-rl2 in c:\\users\\benja\\appdata\\local\\programs\\python\\python38\\lib\\site-packages (1.0.4)\n",
      "Requirement already satisfied: tensorflow>=2.1.0 in c:\\users\\benja\\appdata\\local\\programs\\python\\python38\\lib\\site-packages (from keras-rl2) (2.3.0)\n",
      "Requirement already satisfied: scipy==1.4.1 in c:\\users\\benja\\appdata\\local\\programs\\python\\python38\\lib\\site-packages (from tensorflow>=2.1.0->keras-rl2) (1.4.1)\n",
      "Requirement already satisfied: h5py<2.11.0,>=2.10.0 in c:\\users\\benja\\appdata\\local\\programs\\python\\python38\\lib\\site-packages (from tensorflow>=2.1.0->keras-rl2) (2.10.0)\n",
      "Requirement already satisfied: keras-preprocessing<1.2,>=1.1.1 in c:\\users\\benja\\appdata\\local\\programs\\python\\python38\\lib\\site-packages (from tensorflow>=2.1.0->keras-rl2) (1.1.2)\n",
      "Requirement already satisfied: gast==0.3.3 in c:\\users\\benja\\appdata\\local\\programs\\python\\python38\\lib\\site-packages (from tensorflow>=2.1.0->keras-rl2) (0.3.3)\n",
      "Requirement already satisfied: six>=1.12.0 in c:\\users\\benja\\appdata\\local\\programs\\python\\python38\\lib\\site-packages (from tensorflow>=2.1.0->keras-rl2) (1.15.0)\n",
      "Requirement already satisfied: opt-einsum>=2.3.2 in c:\\users\\benja\\appdata\\local\\programs\\python\\python38\\lib\\site-packages (from tensorflow>=2.1.0->keras-rl2) (3.3.0)\n",
      "Requirement already satisfied: google-pasta>=0.1.8 in c:\\users\\benja\\appdata\\local\\programs\\python\\python38\\lib\\site-packages (from tensorflow>=2.1.0->keras-rl2) (0.2.0)\n",
      "Requirement already satisfied: wrapt>=1.11.1 in c:\\users\\benja\\appdata\\local\\programs\\python\\python38\\lib\\site-packages (from tensorflow>=2.1.0->keras-rl2) (1.12.1)\n",
      "Requirement already satisfied: protobuf>=3.9.2 in c:\\users\\benja\\appdata\\local\\programs\\python\\python38\\lib\\site-packages (from tensorflow>=2.1.0->keras-rl2) (3.15.8)\n",
      "Requirement already satisfied: numpy<1.19.0,>=1.16.0 in c:\\users\\benja\\appdata\\local\\programs\\python\\python38\\lib\\site-packages (from tensorflow>=2.1.0->keras-rl2) (1.18.5)\n",
      "Requirement already satisfied: termcolor>=1.1.0 in c:\\users\\benja\\appdata\\local\\programs\\python\\python38\\lib\\site-packages (from tensorflow>=2.1.0->keras-rl2) (1.1.0)\n",
      "Requirement already satisfied: absl-py>=0.7.0 in c:\\users\\benja\\appdata\\local\\programs\\python\\python38\\lib\\site-packages (from tensorflow>=2.1.0->keras-rl2) (0.12.0)\n",
      "Requirement already satisfied: tensorflow-estimator<2.4.0,>=2.3.0 in c:\\users\\benja\\appdata\\local\\programs\\python\\python38\\lib\\site-packages (from tensorflow>=2.1.0->keras-rl2) (2.3.0)\n",
      "Requirement already satisfied: grpcio>=1.8.6 in c:\\users\\benja\\appdata\\local\\programs\\python\\python38\\lib\\site-packages (from tensorflow>=2.1.0->keras-rl2) (1.37.1)\n",
      "Requirement already satisfied: tensorboard<3,>=2.3.0 in c:\\users\\benja\\appdata\\local\\programs\\python\\python38\\lib\\site-packages (from tensorflow>=2.1.0->keras-rl2) (2.5.0)\n",
      "Requirement already satisfied: astunparse==1.6.3 in c:\\users\\benja\\appdata\\local\\programs\\python\\python38\\lib\\site-packages (from tensorflow>=2.1.0->keras-rl2) (1.6.3)\n",
      "Requirement already satisfied: wheel>=0.26 in c:\\users\\benja\\appdata\\local\\programs\\python\\python38\\lib\\site-packages (from tensorflow>=2.1.0->keras-rl2) (0.36.2)\n",
      "Requirement already satisfied: tensorboard-data-server<0.7.0,>=0.6.0 in c:\\users\\benja\\appdata\\local\\programs\\python\\python38\\lib\\site-packages (from tensorboard<3,>=2.3.0->tensorflow>=2.1.0->keras-rl2) (0.6.0)\n",
      "Requirement already satisfied: werkzeug>=0.11.15 in c:\\users\\benja\\appdata\\local\\programs\\python\\python38\\lib\\site-packages (from tensorboard<3,>=2.3.0->tensorflow>=2.1.0->keras-rl2) (1.0.1)\n"
     ]
    },
    {
     "name": "stderr",
     "output_type": "stream",
     "text": [
      "WARNING: You are using pip version 20.2.3; however, version 21.1 is available.\n",
      "You should consider upgrading via the 'c:\\users\\benja\\appdata\\local\\programs\\python\\python38\\python.exe -m pip install --upgrade pip' command.\n"
     ]
    },
    {
     "name": "stdout",
     "output_type": "stream",
     "text": [
      "Requirement already satisfied: markdown>=2.6.8 in c:\\users\\benja\\appdata\\local\\programs\\python\\python38\\lib\\site-packages (from tensorboard<3,>=2.3.0->tensorflow>=2.1.0->keras-rl2) (3.3.4)\n",
      "Requirement already satisfied: tensorboard-plugin-wit>=1.6.0 in c:\\users\\benja\\appdata\\local\\programs\\python\\python38\\lib\\site-packages (from tensorboard<3,>=2.3.0->tensorflow>=2.1.0->keras-rl2) (1.8.0)\n",
      "Requirement already satisfied: google-auth<2,>=1.6.3 in c:\\users\\benja\\appdata\\local\\programs\\python\\python38\\lib\\site-packages (from tensorboard<3,>=2.3.0->tensorflow>=2.1.0->keras-rl2) (1.30.0)\n",
      "Requirement already satisfied: setuptools>=41.0.0 in c:\\users\\benja\\appdata\\local\\programs\\python\\python38\\lib\\site-packages (from tensorboard<3,>=2.3.0->tensorflow>=2.1.0->keras-rl2) (49.2.1)\n",
      "Requirement already satisfied: requests<3,>=2.21.0 in c:\\users\\benja\\appdata\\local\\programs\\python\\python38\\lib\\site-packages (from tensorboard<3,>=2.3.0->tensorflow>=2.1.0->keras-rl2) (2.25.1)\n",
      "Requirement already satisfied: google-auth-oauthlib<0.5,>=0.4.1 in c:\\users\\benja\\appdata\\local\\programs\\python\\python38\\lib\\site-packages (from tensorboard<3,>=2.3.0->tensorflow>=2.1.0->keras-rl2) (0.4.4)\n",
      "Requirement already satisfied: rsa<5,>=3.1.4; python_version >= \"3.6\" in c:\\users\\benja\\appdata\\local\\programs\\python\\python38\\lib\\site-packages (from google-auth<2,>=1.6.3->tensorboard<3,>=2.3.0->tensorflow>=2.1.0->keras-rl2) (4.7.2)\n",
      "Requirement already satisfied: pyasn1-modules>=0.2.1 in c:\\users\\benja\\appdata\\local\\programs\\python\\python38\\lib\\site-packages (from google-auth<2,>=1.6.3->tensorboard<3,>=2.3.0->tensorflow>=2.1.0->keras-rl2) (0.2.8)\n",
      "Requirement already satisfied: cachetools<5.0,>=2.0.0 in c:\\users\\benja\\appdata\\local\\programs\\python\\python38\\lib\\site-packages (from google-auth<2,>=1.6.3->tensorboard<3,>=2.3.0->tensorflow>=2.1.0->keras-rl2) (4.2.2)\n",
      "Requirement already satisfied: urllib3<1.27,>=1.21.1 in c:\\users\\benja\\appdata\\local\\programs\\python\\python38\\lib\\site-packages (from requests<3,>=2.21.0->tensorboard<3,>=2.3.0->tensorflow>=2.1.0->keras-rl2) (1.26.4)\n",
      "Requirement already satisfied: chardet<5,>=3.0.2 in c:\\users\\benja\\appdata\\local\\programs\\python\\python38\\lib\\site-packages (from requests<3,>=2.21.0->tensorboard<3,>=2.3.0->tensorflow>=2.1.0->keras-rl2) (4.0.0)\n",
      "Requirement already satisfied: certifi>=2017.4.17 in c:\\users\\benja\\appdata\\local\\programs\\python\\python38\\lib\\site-packages (from requests<3,>=2.21.0->tensorboard<3,>=2.3.0->tensorflow>=2.1.0->keras-rl2) (2020.12.5)\n",
      "Requirement already satisfied: idna<3,>=2.5 in c:\\users\\benja\\appdata\\local\\programs\\python\\python38\\lib\\site-packages (from requests<3,>=2.21.0->tensorboard<3,>=2.3.0->tensorflow>=2.1.0->keras-rl2) (2.10)\n",
      "Requirement already satisfied: requests-oauthlib>=0.7.0 in c:\\users\\benja\\appdata\\local\\programs\\python\\python38\\lib\\site-packages (from google-auth-oauthlib<0.5,>=0.4.1->tensorboard<3,>=2.3.0->tensorflow>=2.1.0->keras-rl2) (1.3.0)\n",
      "Requirement already satisfied: pyasn1>=0.1.3 in c:\\users\\benja\\appdata\\local\\programs\\python\\python38\\lib\\site-packages (from rsa<5,>=3.1.4; python_version >= \"3.6\"->google-auth<2,>=1.6.3->tensorboard<3,>=2.3.0->tensorflow>=2.1.0->keras-rl2) (0.4.8)\n",
      "Requirement already satisfied: oauthlib>=3.0.0 in c:\\users\\benja\\appdata\\local\\programs\\python\\python38\\lib\\site-packages (from requests-oauthlib>=0.7.0->google-auth-oauthlib<0.5,>=0.4.1->tensorboard<3,>=2.3.0->tensorflow>=2.1.0->keras-rl2) (3.1.0)\n"
     ]
    }
   ],
   "source": [
    "!pip install tensorflow==2.3.0\n",
    "!pip install gym\n",
    "!pip install keras\n",
    "!pip install keras-rl2"
   ]
  },
  {
   "cell_type": "markdown",
   "id": "07a19d32",
   "metadata": {},
   "source": [
    "## Testing OpenAI Gym with Random Actions"
   ]
  },
  {
   "cell_type": "code",
   "execution_count": 2,
   "id": "91868e03",
   "metadata": {},
   "outputs": [],
   "source": [
    "import gym"
   ]
  },
  {
   "cell_type": "code",
   "execution_count": 3,
   "id": "9c60442d",
   "metadata": {},
   "outputs": [],
   "source": [
    "env = gym.make('CartPole-v0')\n",
    "states = env.observation_space.shape[0]\n",
    "actions = env.action_space.n"
   ]
  },
  {
   "cell_type": "markdown",
   "id": "0cf1cb34",
   "metadata": {},
   "source": [
    "__States__:\n",
    "An array of 4 numbers which describe the position of the CartPole"
   ]
  },
  {
   "cell_type": "code",
   "execution_count": 4,
   "id": "29e22e0a",
   "metadata": {},
   "outputs": [
    {
     "data": {
      "text/plain": [
       "4"
      ]
     },
     "execution_count": 4,
     "metadata": {},
     "output_type": "execute_result"
    }
   ],
   "source": [
    "states"
   ]
  },
  {
   "cell_type": "markdown",
   "id": "851c1635",
   "metadata": {},
   "source": [
    "__Actions__:\n",
    "1. Apply a force to the left. \n",
    "2. Apply a force to the right"
   ]
  },
  {
   "cell_type": "code",
   "execution_count": 5,
   "id": "ae6a1148",
   "metadata": {},
   "outputs": [
    {
     "data": {
      "text/plain": [
       "2"
      ]
     },
     "execution_count": 5,
     "metadata": {},
     "output_type": "execute_result"
    }
   ],
   "source": [
    "actions"
   ]
  },
  {
   "cell_type": "code",
   "execution_count": 6,
   "id": "a583ac8b",
   "metadata": {},
   "outputs": [
    {
     "name": "stdout",
     "output_type": "stream",
     "text": [
      "[-0.04354854  0.00750354 -0.03368896  0.04902461]\n",
      "[-0.04339847 -0.18711955 -0.03270847  0.33089092]\n",
      "[-0.04714086 -0.38176101 -0.02609065  0.61308237]\n",
      "[-0.05477608 -0.57650882 -0.013829    0.89743489]\n",
      "[-0.06630626 -0.38120217  0.0041197   0.60043732]\n",
      "[-0.0739303  -0.57638151  0.01612844  0.89441504]\n",
      "[-0.08545793 -0.38148195  0.03401675  0.60684527]\n",
      "[-0.09308757 -0.5770626   0.04615365  0.91004553]\n",
      "[-0.10462882 -0.38259463  0.06435456  0.63221856]\n",
      "[-0.11228072 -0.18842675  0.07699893  0.36047683]\n",
      "[-0.11604925  0.00552106  0.08420847  0.09303242]\n",
      "[-0.11593883 -0.19070058  0.08606912  0.41104998]\n",
      "[-0.11975284  0.00310248  0.09429012  0.14669456]\n",
      "[-0.11969079  0.19675655  0.09722401 -0.11481597]\n",
      "[-0.11575566  0.3903607   0.09492769 -0.3753119 ]\n",
      "[-0.10794845  0.1940276   0.08742145 -0.05427132]\n",
      "[-0.1040679  -0.002232    0.08633602  0.26466305]\n",
      "[-0.10411254  0.19155837  0.09162929  0.00041146]\n",
      "[-0.10028137 -0.00475008  0.09163751  0.32054017]\n",
      "[-0.10037637  0.18895549  0.09804832  0.05810469]\n",
      "[-0.09659726 -0.00742561  0.09921041  0.38004157]\n",
      "[-0.09674577  0.18615784  0.10681124  0.12021431]\n",
      "[-0.09302262  0.37960022  0.10921553 -0.13695282]\n",
      "[-0.08543061  0.57300215  0.10647647 -0.39328169]\n",
      "[-0.07397057  0.76646474  0.09861084 -0.65058716]\n",
      "[-0.05864127  0.57011762  0.0855991  -0.32855268]\n",
      "[-0.04723892  0.373888    0.07902804 -0.01015053]\n",
      "[-0.03976116  0.17772684  0.07882503  0.30638291]\n",
      "[-0.03620662  0.37164224  0.08495269  0.03956358]\n",
      "[-0.02877378  0.1754113   0.08574396  0.35779454]\n",
      "[-0.02526555  0.36921627  0.09289985  0.09333292]\n",
      "[-0.01788123  0.56289239  0.09476651 -0.16865524]\n",
      "[-0.00662338  0.75653913  0.09139341 -0.43000235]\n",
      "[ 0.0085074   0.95025605  0.08279336 -0.69253275]\n",
      "[ 0.02751252  0.754089    0.0689427  -0.37497666]\n",
      "[ 0.0425943   0.9481674   0.06144317 -0.64514957]\n",
      "[ 0.06155765  0.75224547  0.04854018 -0.33376831]\n",
      "[ 0.07660256  0.94664416  0.04186481 -0.61075769]\n",
      "[ 0.09553544  1.14115671  0.02964966 -0.8899662 ]\n",
      "[ 0.11835858  0.94564527  0.01185034 -0.58811222]\n",
      "[ 1.37271483e-01  7.50359386e-01  8.80914718e-05 -2.91720044e-01]\n",
      "[ 0.15227867  0.94548008 -0.00574631 -0.58437519]\n",
      "[ 0.17118827  1.14068206 -0.01743381 -0.87886272]\n",
      "[ 0.19400191  0.94580128 -0.03501107 -0.59171125]\n",
      "[ 0.21291794  0.75118652 -0.04684529 -0.31025916]\n",
      "[ 0.22794167  0.55676221 -0.05305048 -0.03271012]\n",
      "[ 0.23907691  0.36243958 -0.05370468  0.24277423]\n",
      "[ 0.24632571  0.16812423 -0.04884919  0.51804543]\n",
      "[ 0.24968819 -0.02627713 -0.03848829  0.79494368]\n",
      "[ 0.24916265 -0.22085029 -0.02258941  1.07527451]\n",
      "[ 0.24474564 -0.02543726 -0.00108392  0.77558902]\n",
      "[0.2442369  0.16969958 0.01442786 0.48256526]\n",
      "[0.24763089 0.36461495 0.02407916 0.19446427]\n",
      "[0.25492319 0.16915699 0.02796845 0.49464483]\n",
      "[0.25830633 0.36387357 0.03786135 0.21090583]\n",
      "[0.2655838  0.1682313  0.04207946 0.51528749]\n",
      "[0.26894842 0.3627362  0.05238521 0.23615613]\n",
      "[0.27620315 0.16690647 0.05710834 0.54489197]\n",
      "[ 0.27954128 -0.02896949  0.06800617  0.85500765]\n",
      "[ 0.27896189 -0.22494906  0.08510633  1.1682759 ]\n",
      "[ 0.27446291 -0.03103111  0.10847185  0.90344283]\n",
      "[0.27384228 0.16246764 0.1265407  0.6467288 ]\n",
      "[ 0.27709164 -0.03416912  0.13947528  0.97642936]\n",
      "[ 0.27640825 -0.23085804  0.15900387  1.3094706 ]\n",
      "[ 0.27179109 -0.03806697  0.18519328  1.07048235]\n",
      "[0.27102975 0.15418824 0.20660292 0.84116682]\n",
      "Episode finished after 66 timesteps\n",
      "[ 0.03839434 -0.04935554  0.02570725 -0.02529825]\n",
      "[ 0.03740723  0.14538849  0.02520129 -0.30976068]\n",
      "[ 0.040315    0.34014249  0.01900607 -0.59439051]\n",
      "[ 0.04711785  0.53499333  0.00711826 -0.88102654]\n",
      "[ 0.05781772  0.33977541 -0.01050227 -0.58611433]\n",
      "[ 0.06461322  0.53504287 -0.02222456 -0.88208698]\n",
      "[ 0.07531408  0.34022972 -0.03986629 -0.5964729 ]\n",
      "[ 0.08211868  0.53588623 -0.05179575 -0.90144206]\n",
      "[ 0.0928364   0.73167024 -0.06982459 -1.20994537]\n",
      "[ 0.1074698   0.53751592 -0.0940235  -0.93993531]\n",
      "[ 0.11822012  0.73377088 -0.11282221 -1.26061967]\n",
      "[ 0.13289554  0.9301405  -0.1380346  -1.58640082]\n",
      "[ 0.15149835  0.73690298 -0.16976262 -1.33975497]\n",
      "[ 0.16623641  0.93370617 -0.19655772 -1.68038699]\n",
      "Episode finished after 14 timesteps\n",
      "[-0.02045792  0.01820482  0.00275876  0.01664013]\n",
      "[-0.02009382  0.2132871   0.00309156 -0.2751711 ]\n",
      "[-0.01582808  0.40836481 -0.00241186 -0.56687735]\n",
      "[-0.00766078  0.60352051 -0.01374941 -0.86031914]\n",
      "[ 0.00440963  0.79882699 -0.03095579 -1.15729337]\n",
      "[ 0.02038617  0.99433846 -0.05410166 -1.45951963]\n",
      "[ 0.04027294  0.79992011 -0.08329205 -1.18421692]\n",
      "[ 0.05627134  0.99601794 -0.10697639 -1.50180347]\n",
      "[ 0.0761917   0.80234512 -0.13701246 -1.24434606]\n",
      "[ 0.0922386   0.99893286 -0.16189938 -1.57661992]\n",
      "[ 0.11221726  0.80606818 -0.19343178 -1.33849683]\n",
      "Episode finished after 11 timesteps\n",
      "[-0.02671055 -0.02695838  0.03575084  0.03257588]\n",
      "[-0.02724971 -0.22257429  0.03640236  0.33632076]\n",
      "[-0.0317012  -0.41819487  0.04312877  0.64025716]\n",
      "[-0.0400651  -0.61389072  0.05593392  0.9462039 ]\n",
      "[-0.05234291 -0.41956488  0.07485799  0.67160699]\n",
      "[-0.06073421 -0.22555898  0.08829013  0.40340084]\n",
      "[-0.06524539 -0.0317929   0.09635815  0.1398074 ]\n",
      "[-0.06588125  0.16182637  0.0991543  -0.12098877]\n",
      "[-0.06264472 -0.03456607  0.09673452  0.20125655]\n",
      "[-0.06333604 -0.23092885  0.10075965  0.5228193 ]\n",
      "[-0.06795462 -0.42731386  0.11121604  0.84547597]\n",
      "[-0.07650089 -0.62376322  0.12812556  1.17095964]\n",
      "[-0.08897616 -0.43051867  0.15154475  0.92103473]\n",
      "[-0.09758653 -0.23773351  0.16996545  0.67955507]\n",
      "[-0.1023412  -0.43475767  0.18355655  1.0205624 ]\n",
      "[-0.11103636 -0.24249268  0.2039678   0.79067287]\n",
      "Episode finished after 16 timesteps\n",
      "[ 0.01618466  0.0423211  -0.01942849 -0.03431038]\n",
      "[ 0.01703109  0.23771619 -0.0201147  -0.33305932]\n",
      "[ 0.02178541  0.04288623 -0.02677588 -0.04678682]\n",
      "[ 0.02264313 -0.15184175 -0.02771162  0.23732927]\n",
      "[ 0.0196063  -0.34655706 -0.02296504  0.52114393]\n",
      "[ 0.01267516 -0.54134834 -0.01254216  0.80650268]\n",
      "[ 0.00184819 -0.73629616  0.0035879   1.0952141 ]\n",
      "[-0.01287773 -0.93146518  0.02549218  1.3890206 ]\n",
      "[-0.03150704 -0.73666995  0.05327259  1.10441657]\n",
      "[-0.04624043 -0.93245048  0.07536092  1.41332549]\n",
      "[-0.06488944 -0.73833902  0.10362743  1.14511986]\n",
      "[-0.07965622 -0.54471188  0.12652983  0.8866492 ]\n",
      "[-0.09055046 -0.35151358  0.14426281  0.63626904]\n",
      "[-0.09758073 -0.15866684  0.15698819  0.39227012]\n",
      "[-0.10075407  0.0339195   0.1648336   0.15290825]\n",
      "[-0.10007568  0.22634473  0.16789176 -0.08357538]\n",
      "[-0.09554879  0.41871195  0.16622025 -0.31894036]\n",
      "[-0.08717455  0.61112473  0.15984145 -0.55493751]\n",
      "[-0.07495205  0.41416217  0.1487427  -0.2164663 ]\n",
      "[-0.06666881  0.21726154  0.14441337  0.11919272]\n",
      "[-0.06232358  0.41005091  0.14679723 -0.12467097]\n",
      "[-0.05412256  0.21316423  0.14430381  0.21048621]\n",
      "[-0.04985928  0.40595975  0.14851353 -0.03342304]\n",
      "[-0.04174008  0.20905469  0.14784507  0.30218593]\n",
      "[-0.03755899  0.01216892  0.15388879  0.63760107]\n",
      "[-0.03731561 -0.18472605  0.16664081  0.97451825]\n",
      "[-0.04101013 -0.38164377  0.18613117  1.3145691 ]\n",
      "Episode finished after 27 timesteps\n",
      "[-0.01708088 -0.00590272 -0.02645013  0.02629013]\n",
      "[-0.01719894  0.18958836 -0.02592433 -0.27461936]\n",
      "[-0.01340717  0.38507042 -0.03141672 -0.57536482]\n",
      "[-0.00570576  0.58061838 -0.04292401 -0.877777  ]\n",
      "[ 0.0059066   0.38610521 -0.06047955 -0.59889179]\n",
      "[ 0.01362871  0.19187928 -0.07245739 -0.32585571]\n",
      "[ 0.01746629  0.38795406 -0.0789745  -0.64047999]\n",
      "[ 0.02522538  0.19401676 -0.0917841  -0.37367514]\n",
      "[ 0.02910571  0.3903145  -0.09925761 -0.69382902]\n",
      "[ 0.036912    0.586663   -0.11313419 -1.01603597]\n",
      "[ 0.04864526  0.78309677 -0.13345491 -1.34199351]\n",
      "[ 0.0643072   0.58988263 -0.16029478 -1.09386873]\n",
      "[ 0.07610485  0.39719322 -0.18217215 -0.85546507]\n",
      "[ 0.08404871  0.59426773 -0.19928145 -1.19944806]\n",
      "Episode finished after 14 timesteps\n",
      "[-0.04297753 -0.03825364 -0.03361191  0.0039269 ]\n",
      "[-0.0437426  -0.23287782 -0.03353337  0.28581825]\n",
      "[-0.04840016 -0.42750588 -0.02781701  0.56773924]\n",
      "[-0.05695028 -0.23200501 -0.01646222  0.26642424]\n",
      "[-0.06159038 -0.42688819 -0.01113374  0.55386973]\n",
      "[-7.01281392e-02 -2.31611681e-01 -5.63428414e-05  2.57699865e-01]\n",
      "[-0.07476037 -0.03648893  0.00509765 -0.03500083]\n",
      "[-0.07549015  0.15855955  0.00439764 -0.32607105]\n",
      "[-0.07231896 -0.03662473 -0.00212378 -0.03200455]\n",
      "[-0.07305145 -0.23171616 -0.00276387  0.26000755]\n",
      "[-0.07768578 -0.03655487  0.00243628 -0.03354586]\n",
      "[-0.07841688 -0.23171167  0.00176536  0.25990474]\n",
      "[-0.08305111 -0.03661496  0.00696345 -0.03222084]\n",
      "[-0.08378341 -0.23183608  0.00631904  0.26265097]\n",
      "[-0.08842013 -0.03680489  0.01157206 -0.02803218]\n",
      "[-0.08915623 -0.23209087  0.01101141  0.26827927]\n",
      "[-0.09379804 -0.42736822  0.016377    0.56441483]\n",
      "[-0.10234541 -0.62271608  0.0276653   0.86221195]\n",
      "[-0.11479973 -0.42798152  0.04490953  0.57835445]\n",
      "[-0.12335936 -0.2335168   0.05647662  0.30015045]\n",
      "[-0.1280297  -0.03924342  0.06247963  0.02580029]\n",
      "[-0.12881457 -0.23520315  0.06299564  0.33752341]\n",
      "[-0.13351863 -0.43116234  0.06974611  0.64938761]\n",
      "[-0.14214188 -0.23707771  0.08273386  0.37945721]\n",
      "[-0.14688343 -0.43327113  0.090323    0.69703674]\n",
      "[-0.15554885 -0.62952182  0.10426374  1.01673167]\n",
      "[-0.16813929 -0.82586768  0.12459837  1.34024909]\n",
      "[-0.18465664 -0.63251493  0.15140335  1.08900558]\n",
      "[-0.19730694 -0.43967777  0.17318346  0.84740153]\n",
      "[-0.2061005  -0.63668529  0.1901315   1.18915413]\n",
      "Episode finished after 30 timesteps\n",
      "[ 0.02401212 -0.02515329  0.00033363 -0.04462302]\n",
      "[ 0.02350905 -0.22028002 -0.00055884  0.24816515]\n",
      "[ 0.01910345 -0.0251501   0.00440447 -0.04469399]\n",
      "[ 0.01860045 -0.22033493  0.00351059  0.24937533]\n",
      "[ 0.01419375 -0.02526329  0.00849809 -0.04219822]\n",
      "[ 0.01368849  0.16973578  0.00765413 -0.33218785]\n",
      "[ 0.0170832  -0.02549428  0.00101037 -0.03710105]\n",
      "[ 1.65733174e-02  1.69613170e-01  2.68352097e-04 -3.29465023e-01]\n",
      "[ 0.01996558  0.3647313  -0.00632095 -0.62206331]\n",
      "[ 0.02726021  0.16969818 -0.01876221 -0.33137783]\n",
      "[ 0.03065417 -0.02515175 -0.02538977 -0.04467014]\n",
      "[ 0.03015114  0.17032491 -0.02628317 -0.34525441]\n",
      "[ 0.03355763 -0.02441349 -0.03318826 -0.06097406]\n",
      "[ 0.03306936 -0.21904427 -0.03440774  0.22105577]\n",
      "[ 0.02868848 -0.02344782 -0.02998663 -0.08227912]\n",
      "[ 0.02821952 -0.21812737 -0.03163221  0.20079418]\n",
      "[ 0.02385697 -0.41278297 -0.02761633  0.48333319]\n",
      "[ 0.01560132 -0.21728236 -0.01794966  0.18207593]\n",
      "[ 0.01125567 -0.41214293 -0.01430814  0.46904278]\n",
      "[ 0.00301281 -0.60705986 -0.00492729  0.7571818 ]\n",
      "[-0.00912839 -0.80211356  0.01021635  1.04831018]\n",
      "[-0.02517066 -0.99736958  0.03118255  1.34418247]\n",
      "[-0.04511805 -1.19286958  0.0580662   1.64645609]\n",
      "[-0.06897544 -0.99847293  0.09099532  1.37241444]\n",
      "[-0.0889449  -0.80459895  0.11844361  1.10952234]\n",
      "[-0.10503688 -1.00106107  0.14063406  1.43689188]\n",
      "[-0.1250581  -0.80792484  0.1693719   1.19125796]\n",
      "[-0.1412166  -1.00478699  0.19319705  1.53188338]\n",
      "Episode finished after 28 timesteps\n",
      "[-0.01721507 -0.01859599 -0.03220373 -0.0212038 ]\n",
      "[-0.01758699  0.17697265 -0.03262781 -0.3238709 ]\n",
      "[-0.01404754 -0.01766989 -0.03910522 -0.04165337]\n",
      "[-0.01440093  0.17799037 -0.03993829 -0.34641338]\n",
      "[-0.01084113 -0.0165414  -0.04686656 -0.06658715]\n",
      "[-0.01117196 -0.21096118 -0.0481983   0.21094857]\n",
      "[-0.01539118 -0.01518441 -0.04397933 -0.09654036]\n",
      "[-0.01569487 -0.20964934 -0.04591014  0.18194923]\n",
      "[-0.01988785 -0.01390155 -0.04227115 -0.12485592]\n",
      "[-0.02016589 -0.20839322 -0.04476827  0.15419696]\n",
      "[-0.02433375 -0.40284652 -0.04168433  0.43242721]\n",
      "[-0.03239068 -0.20715992 -0.03303579  0.12690063]\n",
      "[-0.03653388 -0.01158066 -0.03049777 -0.17601894]\n",
      "[-0.03676549  0.18396417 -0.03401815 -0.47816475]\n",
      "[-0.03308621  0.37954948 -0.04358145 -0.78137238]\n",
      "[-0.02549522  0.18505282 -0.0592089  -0.5027133 ]\n",
      "[-0.02179416 -0.0091868  -0.06926316 -0.22926168]\n",
      "[-0.0219779  -0.20325412 -0.0738484   0.04079423]\n",
      "[-0.02604298 -0.39724367 -0.07303251  0.30929377]\n",
      "[-0.03398785 -0.20116125 -0.06684664 -0.0054983 ]\n",
      "[-0.03801108 -0.00514747 -0.0669566  -0.31850058]\n",
      "[-0.03811403 -0.19925507 -0.07332661 -0.04766213]\n",
      "[-0.04209913 -0.00316245 -0.07427986 -0.36254937]\n",
      "[-0.04216238  0.19293233 -0.08153084 -0.67769865]\n",
      "[-0.03830373 -0.00096791 -0.09508482 -0.41175795]\n",
      "[-0.03832309  0.19536429 -0.10331998 -0.7328388 ]\n",
      "[-0.0344158   0.00181019 -0.11797675 -0.47437796]\n",
      "[-0.0343796  -0.19146538 -0.12746431 -0.22108462]\n",
      "[-0.03820891 -0.38455679 -0.131886    0.02882968]\n",
      "[-0.04590004 -0.57756504 -0.13130941  0.27716565]\n",
      "[-0.05745134 -0.77059308 -0.1257661   0.525721  ]\n",
      "[-0.07286321 -0.96374177 -0.11525168  0.77627794]\n",
      "[-0.09213804 -1.15710595 -0.09972612  1.03059097]\n",
      "[-0.11528016 -0.96080878 -0.0791143   0.70833728]\n",
      "[-0.13449634 -1.1547509  -0.06494755  0.97510516]\n",
      "[-0.15759135 -0.95882071 -0.04544545  0.66274836]\n",
      "[-0.17676777 -0.76309693 -0.03219048  0.35610944]\n",
      "[-0.19202971 -0.95774677 -0.02506829  0.63847057]\n",
      "[-0.21118464 -1.15251037 -0.01229888  0.92315487]\n",
      "[-0.23423485 -1.34746402  0.00616422  1.21194745]\n",
      "[-0.26118413 -1.542665    0.03040316  1.50655562]\n",
      "[-0.29203743 -1.34792466  0.06053428  1.22351726]\n",
      "[-0.31899592 -1.15363242  0.08500462  0.95039892]\n",
      "[-0.34206857 -1.34978932  0.1040126   1.26853314]\n",
      "[-0.36906436 -1.5460744   0.12938326  1.59189415]\n",
      "[-0.39998585 -1.35270391  0.16122115  1.34219544]\n",
      "[-0.42703992 -1.54944508  0.18806506  1.68067413]\n",
      "Episode finished after 47 timesteps\n",
      "[0.0242725  0.02057691 0.0468408  0.02323039]\n",
      "[ 0.02468404  0.21499691  0.04730541 -0.25431359]\n",
      "[0.02898397 0.01923256 0.04221914 0.05290704]\n",
      "[ 0.02936863  0.21372451  0.04327728 -0.22616218]\n",
      "[0.03364312 0.01801163 0.03875403 0.07985181]\n",
      "[ 0.03400335 -0.17764382  0.04035107  0.38450546]\n",
      "[ 0.03045047 -0.37331472  0.04804118  0.68963289]\n",
      "[ 0.02298418 -0.56906927  0.06183384  0.99704463]\n",
      "[ 0.01160279 -0.76496109  0.08177473  1.30848836]\n",
      "[-0.00369643 -0.96101843  0.1079445   1.62560661]\n",
      "[-0.0229168  -0.76731931  0.14045663  1.36842311]\n",
      "[-0.03826318 -0.5742065   0.16782509  1.12276512]\n",
      "[-0.04974731 -0.38163419  0.19028039  0.88707429]\n",
      "[-0.05738    -0.57875848  0.20802188  1.23302942]\n",
      "Episode finished after 14 timesteps\n",
      "[ 0.00284776 -0.04541332 -0.04092749 -0.01283786]\n",
      "[ 0.00193949 -0.23992514 -0.04118424  0.26665623]\n",
      "[-0.00285901 -0.04424034 -0.03585112 -0.03872681]\n",
      "[-0.00374382  0.15137688 -0.03662565 -0.34250207]\n",
      "[-0.00071628 -0.04320537 -0.0434757  -0.06158997]\n",
      "[-0.00158039  0.15251209 -0.04470749 -0.36766658]\n",
      "[ 0.00146985 -0.04194702 -0.05206083 -0.089409  ]\n",
      "[ 0.00063091 -0.23628559 -0.05384901  0.18640493]\n",
      "[-0.0040948  -0.0404362  -0.05012091 -0.12276729]\n",
      "[-0.00490353  0.15536666 -0.05257625 -0.43083212]\n",
      "[-0.00179619 -0.03897291 -0.0611929  -0.15517588]\n",
      "[-0.00257565 -0.23316775 -0.06429641  0.11759168]\n",
      "[-0.007239   -0.42731235 -0.06194458  0.38931672]\n",
      "[-0.01578525 -0.6215029  -0.05415825  0.66184381]\n",
      "[-0.02821531 -0.42567088 -0.04092137  0.35261173]\n",
      "[-0.03672873 -0.22999164 -0.03386913  0.04731106]\n",
      "[-0.04132856 -0.42461197 -0.03292291  0.32911852]\n",
      "[-0.0498208  -0.61925015 -0.02634054  0.61123998]\n",
      "[-0.0622058  -0.42377013 -0.01411574  0.31037845]\n",
      "[-0.07068121 -0.22844994 -0.00790817  0.01327746]\n",
      "[-0.0752502  -0.42345759 -0.00764263  0.30345481]\n",
      "[-0.08371936 -0.22822756 -0.00157353  0.0083714 ]\n",
      "[-0.08828391 -0.42332691 -0.0014061   0.30055745]\n",
      "[-0.09675045 -0.61842879  0.00460505  0.59279659]\n",
      "[-0.10911902 -0.8136149   0.01646098  0.88692653]\n",
      "[-0.12539132 -0.61872021  0.03419951  0.59946341]\n",
      "[-0.13776572 -0.81430353  0.04618878  0.90271954]\n",
      "[-0.15405179 -0.61983668  0.06424317  0.62490504]\n",
      "[-0.16644853 -0.81579389  0.07674127  0.93710899]\n",
      "[-0.18276441 -0.62178596  0.09548345  0.66949339]\n",
      "[-0.19520012 -0.42811219  0.10887332  0.40833553]\n",
      "[-0.20376237 -0.23468875  0.11704003  0.15186378]\n",
      "[-0.20845614 -0.43127517  0.1200773   0.47905729]\n",
      "[-0.21708165 -0.23803487  0.12965845  0.22650197]\n",
      "[-0.22184234 -0.04498132  0.13418849 -0.02263479]\n",
      "[-0.22274197  0.14798654  0.13373579 -0.27015134]\n",
      "[-0.21978224 -0.04876514  0.12833277  0.06154212]\n",
      "[-0.22075754  0.14430555  0.12956361 -0.18805603]\n",
      "[-0.21787143  0.33735875  0.12580249 -0.43722346]\n",
      "[-0.21112426  0.53049641  0.11705802 -0.68775203]\n",
      "[-0.20051433  0.33396101  0.10330298 -0.36062991]\n",
      "[-0.19383511  0.13753398  0.09609038 -0.037243  ]\n",
      "[-0.19108443  0.33115604  0.09534552 -0.29812917]\n",
      "[-0.18446131  0.52479871  0.08938294 -0.55928477]\n",
      "[-0.17396533  0.32854336  0.07819724 -0.23983331]\n",
      "[-0.16739447  0.52246621  0.07340057 -0.50686212]\n",
      "[-0.15694514  0.3263909   0.06326333 -0.19198069]\n",
      "[-0.15041732  0.13042366  0.05942372  0.11996914]\n",
      "[-0.14780885  0.32464611  0.0618231  -0.15339001]\n",
      "[-0.14131593  0.12869593  0.0587553   0.15813815]\n",
      "[-0.13874201 -0.06721586  0.06191806  0.46876286]\n",
      "[-0.14008633  0.12697922  0.07129332  0.19622072]\n",
      "[-0.13754674 -0.06908625  0.07521774  0.51051432]\n",
      "[-0.13892847  0.12489999  0.08542802  0.24245088]\n",
      "[-0.13643047 -0.07133175  0.09027704  0.56081037]\n",
      "[-0.1378571   0.12241496  0.10149325  0.29787919]\n",
      "[-0.1354088  -0.07399628  0.10745083  0.62076775]\n",
      "[-0.13688873  0.11947401  0.11986619  0.36376581]\n",
      "[-0.13449925  0.31270658  0.1271415   0.11115305]\n",
      "[-0.12824512  0.11601375  0.12936456  0.44108983]\n",
      "[-0.12592484  0.30909043  0.13818636  0.19182201]\n",
      "[-0.11974303  0.11228999  0.1420228   0.52470626]\n",
      "[-0.11749723 -0.08451496  0.15251693  0.85855593]\n",
      "[-0.11918753 -0.28134878  0.16968804  1.19504567]\n",
      "[-0.12481451 -0.0887805   0.19358896  0.95999112]\n",
      "Episode finished after 65 timesteps\n",
      "[-0.0439811   0.01526505 -0.01908024  0.02378551]\n",
      "[-0.0436758   0.21065536 -0.01860453 -0.27485585]\n",
      "[-0.03946269  0.40603775 -0.02410165 -0.57334813]\n",
      "[-0.03134194  0.21126186 -0.03556861 -0.28835436]\n",
      "[-0.0271167   0.40687251 -0.0413357  -0.59203971]\n",
      "[-0.01897925  0.60254802 -0.0531765  -0.89745149]\n",
      "[-0.00692829  0.40818567 -0.07112553 -0.6219466 ]\n",
      "[ 0.00123542  0.21412522 -0.08356446 -0.35248518]\n",
      "[ 0.00551793  0.4103299  -0.09061416 -0.67030459]\n",
      "[ 0.01372452  0.21657681 -0.10402025 -0.40747143]\n",
      "[ 0.01805606  0.41300805 -0.11216968 -0.73105249]\n",
      "[ 0.02631622  0.60948672 -0.12679073 -1.05682714]\n",
      "[ 0.03850596  0.80603986 -0.14792727 -1.38646688]\n",
      "[ 0.05462675  1.00266354 -0.17565661 -1.7215135 ]\n",
      "Episode finished after 14 timesteps\n",
      "[-0.03080689 -0.02164626  0.04737861  0.0367678 ]\n",
      "[-0.03123982  0.17276538  0.04811397 -0.24059833]\n",
      "[-0.02778451 -0.02300968  0.043302    0.06686447]\n",
      "[-0.0282447  -0.21872484  0.04463929  0.37288884]\n",
      "[-0.0326192  -0.41445157  0.05209707  0.67930605]\n",
      "[-0.04090823 -0.22009053  0.06568319  0.40346966]\n",
      "[-0.04531004 -0.41607956  0.07375258  0.71611624]\n",
      "[-0.05363163 -0.61214065  0.08807491  1.03107199]\n",
      "[-0.06587445 -0.41829381  0.10869635  0.76728934]\n",
      "[-0.07424032 -0.22482276  0.12404213  0.5106893 ]\n",
      "[-0.07873678 -0.42145374  0.13425592  0.83974453]\n",
      "[-0.08716585 -0.61812815  0.15105081  1.17145415]\n",
      "[-0.09952842 -0.81485618  0.17447989  1.50742639]\n",
      "[-0.11582554 -0.62222596  0.20462842  1.27390534]\n",
      "Episode finished after 14 timesteps\n",
      "[ 0.00387831  0.00114971 -0.01066789  0.03894478]\n",
      "[ 0.0039013   0.196423   -0.00988899 -0.25708479]\n",
      "[ 0.00782976  0.39168473 -0.01503069 -0.55287038]\n",
      "[ 0.01566345  0.5870145  -0.02608809 -0.85025079]\n",
      "[ 0.02740374  0.78248229 -0.04309311 -1.15102174]\n",
      "[ 0.04305339  0.58794833 -0.06611355 -0.87215715]\n",
      "[ 0.05481236  0.39378476 -0.08355669 -0.60097131]\n",
      "[ 0.06268805  0.58997007 -0.09557611 -0.91875968]\n",
      "[ 0.07448745  0.39626098 -0.11395131 -0.65757877]\n",
      "[ 0.08241267  0.59276918 -0.12710288 -0.98385865]\n",
      "[ 0.09426806  0.39955796 -0.14678006 -0.73364739]\n",
      "[ 0.10225922  0.20673594 -0.161453   -0.49052299]\n",
      "[ 0.10639393  0.01421572 -0.17126346 -0.25275955]\n",
      "[ 0.10667825  0.21131657 -0.17631866 -0.5941912 ]\n",
      "[ 0.11090458  0.40841097 -0.18820248 -0.93681871]\n",
      "[ 0.1190728   0.60550374 -0.20693885 -1.28224297]\n",
      "Episode finished after 16 timesteps\n",
      "[ 0.02599802 -0.00347737  0.03746262  0.0489241 ]\n",
      "[ 0.02592848  0.19108793  0.0384411  -0.23170764]\n",
      "[ 0.02975024  0.38564011  0.03380695 -0.51202142]\n",
      "[ 0.03746304  0.58026997  0.02356652 -0.79386204]\n",
      "[ 0.04906844  0.38483259  0.00768928 -0.49385946]\n",
      "[ 0.05676509  0.57984526 -0.00218791 -0.78410919]\n",
      "[ 0.06836199  0.77499721 -0.0178701  -1.07747965]\n",
      "[ 0.08386194  0.97035058 -0.03941969 -1.37571646]\n",
      "[ 0.10326895  1.16594229 -0.06693402 -1.68046249]\n",
      "[ 0.1265878   0.97165673 -0.10054327 -1.40935064]\n",
      "[ 0.14602093  0.77791534 -0.12873028 -1.14971614]\n",
      "[ 0.16157924  0.58468669 -0.1517246  -0.90001369]\n",
      "[ 0.17327297  0.78150293 -0.16972488 -1.23628255]\n",
      "[ 0.18890303  0.58891878 -0.19445053 -1.00121701]\n",
      "Episode finished after 14 timesteps\n",
      "[-0.028656   -0.01103227 -0.02955649 -0.03199484]\n",
      "[-0.02887665 -0.20571818 -0.03019639  0.25121813]\n",
      "[-0.03299101 -0.4003962  -0.02517202  0.53422566]\n",
      "[-0.04099894 -0.20492947 -0.01448751  0.23371865]\n",
      "[-0.04509752 -0.00960355 -0.00981314 -0.06349867]\n",
      "[-0.0452896   0.18565771 -0.01108311 -0.35926147]\n",
      "[-0.04157644 -0.00930495 -0.01826834 -0.07009381]\n",
      "[-0.04176254 -0.20416029 -0.01967022  0.21676984]\n",
      "[-0.04584575 -0.3989956  -0.01533482  0.5031836 ]\n",
      "[-0.05382566 -0.5938981  -0.00527115  0.79099471]\n",
      "[-0.06570362 -0.39870417  0.01054875  0.49665817]\n",
      "[-0.0736777  -0.20373254  0.02048191  0.20731827]\n",
      "[-0.07775235 -0.39914129  0.02462828  0.50639118]\n",
      "[-0.08573518 -0.20437488  0.0347561   0.22157015]\n",
      "[-0.08982268 -0.39997594  0.0391875   0.52501078]\n",
      "[-0.0978222  -0.59562681  0.04968772  0.82977995]\n",
      "[-0.10973473 -0.79139149  0.06628332  1.13766673]\n",
      "[-0.12556256 -0.98731473  0.08903665  1.45037927]\n",
      "[-0.14530886 -0.79339266  0.11804424  1.18679059]\n",
      "[-0.16117671 -0.59998241  0.14178005  0.93331863]\n",
      "[-0.17317636 -0.40702847  0.16044642  0.68833569]\n",
      "[-0.18131693 -0.60397053  0.17421314  1.02692363]\n",
      "[-0.19339634 -0.80092938  0.19475161  1.3688499 ]\n",
      "Episode finished after 23 timesteps\n",
      "[-0.01964251  0.02511599 -0.04510795 -0.03886784]\n",
      "[-0.01914019 -0.16933106 -0.04588531  0.23924881]\n",
      "[-0.02252681 -0.3637685  -0.04110033  0.51711244]\n",
      "[-0.02980218 -0.16809267 -0.03075808  0.21176647]\n",
      "[-0.03316403  0.02745524 -0.02652275 -0.09045811]\n",
      "[-0.03261493 -0.1672767  -0.02833192  0.1937403 ]\n",
      "[-0.03596046  0.02823884 -0.02445711 -0.10774378]\n",
      "[-0.03539568  0.22370257 -0.02661198 -0.40804137]\n",
      "[-0.03092163  0.41919154 -0.03477281 -0.70899401]\n",
      "[-0.0225378   0.22456805 -0.04895269 -0.42745638]\n",
      "[-0.01804644  0.42034791 -0.05750182 -0.73516072]\n",
      "[-0.00963948  0.22606545 -0.07220503 -0.46111491]\n",
      "[-0.00511817  0.03203435 -0.08142733 -0.19203647]\n",
      "[-0.00447749 -0.16183405 -0.08526806  0.0738894 ]\n",
      "[-0.00771417 -0.35563665 -0.08379027  0.3384987 ]\n",
      "[-0.0148269  -0.54947255 -0.0770203   0.60362696]\n",
      "[-0.02581635 -0.35336269 -0.06494776  0.28771266]\n",
      "[-0.0328836  -0.54750121 -0.05919351  0.55922525]\n",
      "[-0.04383363 -0.35160054 -0.048009    0.24849617]\n",
      "[-0.05086564 -0.15582701 -0.04303908 -0.05893499]\n",
      "[-0.05398218  0.03988477 -0.04421778 -0.36488039]\n",
      "[-0.05318448  0.23560632 -0.05151539 -0.67117154]\n",
      "[-0.04847236  0.04123694 -0.06493882 -0.39514309]\n",
      "[-0.04764762 -0.15290637 -0.07284168 -0.12362053]\n",
      "[-0.05070575 -0.34691325 -0.07531409  0.14522157]\n",
      "[-0.05764401 -0.15079806 -0.07240966 -0.17023872]\n",
      "[-0.06065997 -0.34481292 -0.07581443  0.09875112]\n",
      "[-0.06755623 -0.14869088 -0.07383941 -0.21685498]\n",
      "[-0.07053005 -0.34268385 -0.07817651  0.05165249]\n",
      "[-0.07738373 -0.14653303 -0.07714346 -0.26463559]\n",
      "[-0.08031439  0.04960038 -0.08243617 -0.58061842]\n",
      "[-0.07932238  0.24577483 -0.09404854 -0.8980896 ]\n",
      "[-0.07440688  0.44203709 -0.11201033 -1.2187915 ]\n",
      "[-0.06556614  0.24852305 -0.13638616 -0.96320167]\n",
      "[-0.06059568  0.44518773 -0.1556502  -1.29543263]\n",
      "[-0.05169192  0.25234744 -0.18155885 -1.05524569]\n",
      "[-0.04664498  0.44935024 -0.20266376 -1.39897834]\n",
      "Episode finished after 37 timesteps\n",
      "[ 0.02874072 -0.01207592 -0.01004889  0.04651059]\n",
      "[ 0.02849921  0.18318867 -0.00911868 -0.24932584]\n",
      "[ 0.03216298 -0.01180188 -0.0141052   0.04046697]\n",
      "[ 0.03192694  0.18351947 -0.01329586 -0.2566327 ]\n",
      "[ 0.03559733  0.3788287  -0.01842851 -0.55347951]\n",
      "[ 0.0431739   0.57420452 -0.0294981  -0.85191116]\n",
      "[ 0.05465799  0.76971595 -0.04653633 -1.1537219 ]\n",
      "[ 0.07005231  0.96541293 -0.06961076 -1.46062632]\n",
      "[ 0.08936057  1.16131587 -0.09882329 -1.77421809]\n",
      "[ 0.11258689  0.96743707 -0.13430765 -1.51382559]\n",
      "[ 0.13193563  1.16390497 -0.16458416 -1.84524128]\n",
      "[ 0.15521373  0.97093577 -0.20148899 -1.60786858]\n",
      "Episode finished after 12 timesteps\n",
      "[-0.0287085  -0.01913337 -0.04528667  0.04102779]\n",
      "[-0.02909117  0.17660774 -0.04446611 -0.26559258]\n",
      "[-0.02555901  0.3723352  -0.04977797 -0.5719623 ]\n",
      "[-0.01811231  0.56811852 -0.06121721 -0.87990219]\n",
      "[-0.00674994  0.3738793  -0.07881526 -0.60707576]\n",
      "[ 0.00072765  0.17994266 -0.09095677 -0.34022156]\n",
      "[ 0.0043265   0.37623313 -0.0977612  -0.66014458]\n",
      "[ 0.01185116  0.57256984 -0.11096409 -0.98193947]\n",
      "[ 0.02330256  0.37909567 -0.13060288 -0.72606961]\n",
      "[ 0.03088447  0.18599818 -0.14512428 -0.47717832]\n",
      "[ 0.03460444 -0.00680865 -0.15466784 -0.23352519]\n",
      "[ 0.03446826  0.19014605 -0.15933835 -0.57072186]\n",
      "[ 0.03827118 -0.00242493 -0.17075278 -0.33217198]\n",
      "[ 0.03822268  0.19466385 -0.17739622 -0.67346352]\n",
      "[ 0.04211596  0.002393   -0.19086549 -0.44146472]\n",
      "[ 0.04216382  0.19963077 -0.19969479 -0.78772312]\n",
      "Episode finished after 16 timesteps\n",
      "[-0.04728384 -0.02209641 -0.03930494 -0.02104526]\n",
      "[-0.04772577 -0.21663329 -0.03972584  0.25898201]\n",
      "[-0.05205843 -0.41116626 -0.0345462   0.53887493]\n",
      "[-0.06028176 -0.21557612 -0.0237687   0.2355102 ]\n",
      "[-0.06459328 -0.41035056 -0.0190585   0.52060199]\n",
      "[-0.07280029 -0.21496558 -0.00864646  0.22197489]\n",
      "[-0.0770996  -0.01972111 -0.00420696 -0.07342289]\n",
      "[-0.07749403 -0.2147825  -0.00567542  0.21792976]\n",
      "[-0.08178968 -0.01957988 -0.00131682 -0.07653802]\n",
      "[-0.08218127 -0.21468293 -0.00284758  0.21572915]\n",
      "[-0.08647493 -0.01952038  0.001467   -0.07785066]\n",
      "[-8.68653406e-02 -2.14663334e-01 -9.00141704e-05  2.15294745e-01]\n",
      "[-0.09115861 -0.409784    0.00421588  0.50794928]\n",
      "[-0.09935429 -0.6049651   0.01437487  0.80195779]\n",
      "[-0.11145359 -0.4100432   0.03041402  0.51383122]\n",
      "[-0.11965445 -0.60558     0.04069065  0.81594111]\n",
      "[-0.13176605 -0.4110381   0.05700947  0.53632956]\n",
      "[-0.13998682 -0.60691336  0.06773606  0.84641683]\n",
      "[-0.15212508 -0.80289078  0.0846644   1.15960801]\n",
      "[-0.1681829  -0.99900759  0.10785656  1.47759113]\n",
      "[-0.18816305 -0.8053554   0.13740838  1.22044916]\n",
      "[-0.20427016 -1.00195432  0.16181736  1.55283898]\n",
      "[-0.22430924 -1.19860416  0.19287414  1.89132717]\n",
      "Episode finished after 23 timesteps\n"
     ]
    }
   ],
   "source": [
    "num_episodes = 20\n",
    "for episode in range(1, num_episodes + 1):\n",
    "    observation = env.reset()\n",
    "    for t in range(100):\n",
    "        env.render()\n",
    "        print(observation)\n",
    "        action = env.action_space.sample()\n",
    "        observation, reward, done, info = env.step(action)\n",
    "        if done:\n",
    "            print(\"Episode finished after {} timesteps\".format(t+1))\n",
    "            break\n",
    "env.close()"
   ]
  },
  {
   "cell_type": "code",
   "execution_count": 7,
   "id": "f9bb18c3",
   "metadata": {},
   "outputs": [
    {
     "name": "stdout",
     "output_type": "stream",
     "text": [
      "Episode 1: 24.0 points\n",
      "Episode 2: 12.0 points\n",
      "Episode 3: 10.0 points\n",
      "Episode 4: 15.0 points\n",
      "Episode 5: 11.0 points\n",
      "Episode 6: 15.0 points\n",
      "Episode 7: 30.0 points\n",
      "Episode 8: 20.0 points\n",
      "Episode 9: 85.0 points\n",
      "Episode 10: 14.0 points\n",
      "Episode 11: 42.0 points\n",
      "Episode 12: 30.0 points\n",
      "Episode 13: 17.0 points\n",
      "Episode 14: 24.0 points\n",
      "Episode 15: 19.0 points\n",
      "Episode 16: 17.0 points\n",
      "Episode 17: 10.0 points\n",
      "Episode 18: 12.0 points\n",
      "Episode 19: 22.0 points\n",
      "Episode 20: 23.0 points\n"
     ]
    }
   ],
   "source": [
    "num_episodes = 20\n",
    "for episode in range(1, num_episodes + 1):\n",
    "    observation = env.reset()\n",
    "    score = 0\n",
    "    for t in range(100):\n",
    "        env.render()\n",
    "        \n",
    "        action = env.action_space.sample()\n",
    "        observation, reward, done, info = env.step(action)\n",
    "        score += reward\n",
    "        if done:\n",
    "            print(\"Episode {}: {} points\".format(episode, score))\n",
    "            break\n",
    "env.close()"
   ]
  },
  {
   "cell_type": "markdown",
   "id": "18e13356",
   "metadata": {},
   "source": [
    "## Building the Model"
   ]
  },
  {
   "cell_type": "markdown",
   "id": "971c4f6b",
   "metadata": {},
   "source": [
    "![Reinforcement Learning Diagram](https://miro.medium.com/max/1200/1*05ExQKJ0nOoWV80SNVEyJg.png)"
   ]
  },
  {
   "cell_type": "code",
   "execution_count": 8,
   "id": "acc3a6d4",
   "metadata": {},
   "outputs": [],
   "source": [
    "import numpy as np\n",
    "from tensorflow.keras.models import Sequential\n",
    "from tensorflow.keras.layers import Dense, Flatten\n",
    "from tensorflow.keras.optimizers import Adam"
   ]
  },
  {
   "cell_type": "code",
   "execution_count": 15,
   "id": "9dda22f1",
   "metadata": {},
   "outputs": [],
   "source": [
    "def build_model(states, actions):\n",
    "    model = Sequential()\n",
    "    model.add(Flatten(input_shape=(1, states)))\n",
    "    model.add(Dense(24, activation='relu'))\n",
    "    model.add(Dense(24, activation='relu'))\n",
    "    model.add(Dense(actions, activation='linear'))\n",
    "    return model"
   ]
  },
  {
   "cell_type": "markdown",
   "id": "4cdbf060",
   "metadata": {},
   "source": [
    "#### Flatten Layer\n",
    "![Reinforcement Learning Diagram](https://data-flair.training/blogs/wp-content/uploads/sites/2/2020/07/Flatten-Layer-in-Keras-df.jpg)\n",
    "\n",
    "#### Dense Layer\n",
    "![Reinforcement Learning Diagram](https://stackabuse.s3.amazonaws.com/media/deep-learning-in-keras-building-a-deep-learning-model-1.png)\n"
   ]
  },
  {
   "cell_type": "code",
   "execution_count": 17,
   "id": "c3976c0f",
   "metadata": {},
   "outputs": [],
   "source": [
    "del model"
   ]
  },
  {
   "cell_type": "code",
   "execution_count": 18,
   "id": "34595d77",
   "metadata": {},
   "outputs": [],
   "source": [
    "model = build_model(states, actions)"
   ]
  },
  {
   "cell_type": "code",
   "execution_count": 19,
   "id": "882194fa",
   "metadata": {},
   "outputs": [
    {
     "name": "stdout",
     "output_type": "stream",
     "text": [
      "Model: \"sequential_1\"\n",
      "_________________________________________________________________\n",
      "Layer (type)                 Output Shape              Param #   \n",
      "=================================================================\n",
      "flatten_1 (Flatten)          (None, 4)                 0         \n",
      "_________________________________________________________________\n",
      "dense_3 (Dense)              (None, 24)                120       \n",
      "_________________________________________________________________\n",
      "dense_4 (Dense)              (None, 24)                600       \n",
      "_________________________________________________________________\n",
      "dense_5 (Dense)              (None, 2)                 50        \n",
      "=================================================================\n",
      "Total params: 770\n",
      "Trainable params: 770\n",
      "Non-trainable params: 0\n",
      "_________________________________________________________________\n"
     ]
    }
   ],
   "source": [
    "model.summary()"
   ]
  },
  {
   "cell_type": "markdown",
   "id": "5f4e467f",
   "metadata": {},
   "source": [
    "## Building the Reinforcement Learning Agent"
   ]
  },
  {
   "cell_type": "code",
   "execution_count": 20,
   "id": "2489362f",
   "metadata": {},
   "outputs": [],
   "source": [
    "from rl.agents import DQNAgent\n",
    "from rl.policy import BoltzmannQPolicy\n",
    "from rl.memory import SequentialMemory"
   ]
  },
  {
   "cell_type": "code",
   "execution_count": 21,
   "id": "8c2726dc",
   "metadata": {},
   "outputs": [],
   "source": [
    "def build_agent(model, actions):\n",
    "    policy = BoltzmannQPolicy()\n",
    "    memory = SequentialMemory(limit=50000, window_length=1)\n",
    "    dqn = DQNAgent(model=model, policy=policy, memory=memory, nb_actions=actions, nb_steps_warmup=10, target_model_update=1e-2)\n",
    "    return dqn"
   ]
  },
  {
   "cell_type": "markdown",
   "id": "99c97a43",
   "metadata": {},
   "source": [
    "## Training the Reinforcement Learning Agent"
   ]
  },
  {
   "cell_type": "code",
   "execution_count": 22,
   "id": "c1ff6b7f",
   "metadata": {},
   "outputs": [
    {
     "name": "stdout",
     "output_type": "stream",
     "text": [
      "Training for 50000 steps ...\n",
      "Interval 1 (0 steps performed)\n",
      "WARNING:tensorflow:From c:\\users\\benja\\appdata\\local\\programs\\python\\python38\\lib\\site-packages\\tensorflow\\python\\keras\\engine\\training_v1.py:2070: Model.state_updates (from tensorflow.python.keras.engine.training) is deprecated and will be removed in a future version.\n",
      "Instructions for updating:\n",
      "This property should not be used in TensorFlow 2.0, as updates are applied automatically.\n",
      "   11/10000 [..............................] - ETA: 5:48 - reward: 1.0000"
     ]
    },
    {
     "name": "stderr",
     "output_type": "stream",
     "text": [
      "c:\\users\\benja\\appdata\\local\\programs\\python\\python38\\lib\\site-packages\\rl\\memory.py:40: UserWarning: Not enough entries to sample without replacement. Consider increasing your warm-up phase to avoid oversampling!\n",
      "  warnings.warn('Not enough entries to sample without replacement. Consider increasing your warm-up phase to avoid oversampling!')\n"
     ]
    },
    {
     "name": "stdout",
     "output_type": "stream",
     "text": [
      "10000/10000 [==============================] - 172s 17ms/step - reward: 1.0000\n",
      "109 episodes - episode_reward: 91.706 [8.000, 200.000] - loss: 2.317 - mae: 18.883 - mean_q: 38.320\n",
      "\n",
      "Interval 2 (10000 steps performed)\n",
      "10000/10000 [==============================] - 167s 17ms/step - reward: 1.0000\n",
      "52 episodes - episode_reward: 190.231 [143.000, 200.000] - loss: 6.158 - mae: 38.396 - mean_q: 77.524\n",
      "\n",
      "Interval 3 (20000 steps performed)\n",
      "10000/10000 [==============================] - 167s 17ms/step - reward: 1.0000\n",
      "52 episodes - episode_reward: 192.115 [144.000, 200.000] - loss: 6.739 - mae: 41.054 - mean_q: 82.433\n",
      "\n",
      "Interval 4 (30000 steps performed)\n",
      "10000/10000 [==============================] - 167s 17ms/step - reward: 1.0000\n",
      "51 episodes - episode_reward: 196.471 [154.000, 200.000] - loss: 5.507 - mae: 39.350 - mean_q: 78.983\n",
      "\n",
      "Interval 5 (40000 steps performed)\n",
      "10000/10000 [==============================] - 167s 17ms/step - reward: 1.0000\n",
      "done, took 839.008 seconds\n"
     ]
    },
    {
     "data": {
      "text/plain": [
       "<tensorflow.python.keras.callbacks.History at 0x1ec0bc14f70>"
      ]
     },
     "execution_count": 22,
     "metadata": {},
     "output_type": "execute_result"
    }
   ],
   "source": [
    "dqn = build_agent(model, actions)\n",
    "dqn.compile(Adam(lr=1e-3), metrics=['mae'])\n",
    "dqn.fit(env, nb_steps=50000, visualize=True, verbose=1)"
   ]
  },
  {
   "cell_type": "markdown",
   "id": "7a0b8772",
   "metadata": {},
   "source": [
    "## Testing the Reinforcement Learning Agent"
   ]
  },
  {
   "cell_type": "code",
   "execution_count": 1,
   "id": "1679ceb8",
   "metadata": {},
   "outputs": [
    {
     "ename": "NameError",
     "evalue": "name 'dqn' is not defined",
     "output_type": "error",
     "traceback": [
      "\u001b[1;31m---------------------------------------------------------------------------\u001b[0m",
      "\u001b[1;31mNameError\u001b[0m                                 Traceback (most recent call last)",
      "\u001b[1;32m<ipython-input-1-22b01b1f09e0>\u001b[0m in \u001b[0;36m<module>\u001b[1;34m\u001b[0m\n\u001b[1;32m----> 1\u001b[1;33m \u001b[0mscores\u001b[0m \u001b[1;33m=\u001b[0m \u001b[0mdqn\u001b[0m\u001b[1;33m.\u001b[0m\u001b[0mtest\u001b[0m\u001b[1;33m(\u001b[0m\u001b[0menv\u001b[0m\u001b[1;33m,\u001b[0m \u001b[0mnb_episodes\u001b[0m\u001b[1;33m=\u001b[0m\u001b[1;36m100\u001b[0m\u001b[1;33m,\u001b[0m \u001b[0mvisualize\u001b[0m\u001b[1;33m=\u001b[0m\u001b[1;32mTrue\u001b[0m\u001b[1;33m)\u001b[0m\u001b[1;33m\u001b[0m\u001b[1;33m\u001b[0m\u001b[0m\n\u001b[0m",
      "\u001b[1;31mNameError\u001b[0m: name 'dqn' is not defined"
     ]
    }
   ],
   "source": [
    "scores = dqn.test(env, nb_episodes=100, visualize=True)"
   ]
  },
  {
   "cell_type": "markdown",
   "id": "af731489",
   "metadata": {},
   "source": [
    "## Save and Load Weights from Trained Model"
   ]
  },
  {
   "cell_type": "code",
   "execution_count": null,
   "id": "b4b66f09",
   "metadata": {},
   "outputs": [],
   "source": [
    "dqn.save_weights('cartpole_weights.h5f', overwrite=True)\n",
    "# dqn.load_weights('cartpole_weights.h5f')"
   ]
  },
  {
   "cell_type": "markdown",
   "id": "17a50afa",
   "metadata": {},
   "source": [
    "## Resources"
   ]
  },
  {
   "cell_type": "markdown",
   "id": "a1929a5f",
   "metadata": {},
   "source": [
    "### Reinforcement Learning\n",
    "- An overview: https://www.youtube.com/watch?v=JgvyzIkgxF0&ab_channel=ArxivInsights \n",
    "- A whole course from the lead researcher of AlphaGo and AlphaZero: https://www.youtube.com/playlist?list=PLqYmG7hTraZDM-OYHWgPebj2MfCFzFObQ\n",
    "    - Link to the online course page: https://deepmind.com/learning-resources/-introduction-reinforcement-learning-david-silver\n",
    "- Another easy to follow mini-course: https://www.youtube.com/playlist?list=PLZbbT5o_s2xoWNVdDudn51XM8lOuZ_Njv\n",
    "\n",
    "### Other Helpful Links\n",
    "- What are optimizers?: https://www.youtube.com/watch?v=mdKjMPmcWjY&ab_channel=CodeEmporium\n"
   ]
  },
  {
   "cell_type": "markdown",
   "id": "532ecbd5",
   "metadata": {},
   "source": [
    "## My MsPacman Reinforcement Learning Code\n"
   ]
  },
  {
   "cell_type": "code",
   "execution_count": null,
   "id": "c91e95b6",
   "metadata": {},
   "outputs": [],
   "source": [
    "!pip install -f https://github.com/Kojoley/atari-py/releases atari_py"
   ]
  },
  {
   "cell_type": "code",
   "execution_count": null,
   "id": "8c0a56ea",
   "metadata": {},
   "outputs": [],
   "source": [
    "import gym\n",
    "import tensorflow as tf\n",
    "import numpy as np\n",
    "\n",
    "from tensorflow.keras.models import Sequential\n",
    "from tensorflow.keras.layers import Dense, Flatten, Input, Conv2D, Conv3D, Convolution2D, Activation, Reshape\n",
    "from tensorflow.keras.optimizers import Adam\n",
    "\n",
    "from rl.agents import DQNAgent\n",
    "from rl.policy import BoltzmannQPolicy, LinearAnnealedPolicy, EpsGreedyQPolicy\n",
    "from rl.memory import SequentialMemory\n",
    "\n",
    "env = gym.make('MsPacman-ram-v0')\n",
    "states = env.observation_space.shape[0]\n",
    "\n",
    "actions = env.action_space.n\n",
    "print(actions)\n",
    "\n",
    "def build_model(states, actions):\n",
    "    model = Sequential()\n",
    "\n",
    "    model.add(Flatten(input_shape=(3, states)))\n",
    "    model.add(Dense(128, activation='relu'))\n",
    "    model.add(Dense(512, activation='relu'))\n",
    "    model.add(Dense(512, activation='relu'))\n",
    "    model.add(Dense(128, activation='relu'))\n",
    "    model.add(Dense(actions, activation='softmax'))\n",
    "\n",
    "    return model\n",
    "\n",
    "\n",
    "def build_agent(model, actions):\n",
    "    policy = LinearAnnealedPolicy(EpsGreedyQPolicy(), attr='eps', value_max=1., value_min=.1, value_test=.2, nb_steps=10000)\n",
    "    memory = SequentialMemory(limit=1000, window_length=3)\n",
    "    dqn = DQNAgent(model=model, memory=memory, policy=policy, enable_dueling_network=True, dueling_type='avg', nb_actions=actions, nb_steps_warmup=50000)\n",
    "    return dqn\n",
    "\n",
    "\n",
    "model = build_model(states, actions)\n",
    "print(model.summary())\n",
    "\n",
    "\n",
    "dqn = build_agent(model, actions)\n",
    "dqn.compile(Adam(lr=1e-4))\n",
    "dqn.fit(env, nb_steps=500000, visualize=True, verbose=2)\n",
    "\n",
    "dqn.save_weights('mspacman_weights.h5f', overwrite=True)\n",
    "\n",
    "scores = dqn.test(env, nb_episodes=100, visualize=True)"
   ]
  }
 ],
 "metadata": {
  "kernelspec": {
   "display_name": "Python 3",
   "language": "python",
   "name": "python3"
  },
  "language_info": {
   "codemirror_mode": {
    "name": "ipython",
    "version": 3
   },
   "file_extension": ".py",
   "mimetype": "text/x-python",
   "name": "python",
   "nbconvert_exporter": "python",
   "pygments_lexer": "ipython3",
   "version": "3.8.9"
  }
 },
 "nbformat": 4,
 "nbformat_minor": 5
}
